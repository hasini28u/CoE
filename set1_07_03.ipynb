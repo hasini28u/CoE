{
 "cells": [
  {
   "cell_type": "code",
   "execution_count": 67,
   "id": "7a8a7659-3829-46d0-a53b-fedda84157ef",
   "metadata": {},
   "outputs": [
    {
     "name": "stdout",
     "output_type": "stream",
     "text": [
      "Slope: 0.4\n",
      "Constant: 2.4\n"
     ]
    }
   ],
   "source": [
    "x=[1,2,3,4,5]\n",
    "y=[3,4,2,4,5]\n",
    "xbar = 0\n",
    "xsum = 0\n",
    "ysum = 0\n",
    "for i in range(len(x)):\n",
    "    xsum += x[i]\n",
    "    ysum += y[i]\n",
    "xbar = xsum / len(x)\n",
    "ybar = ysum / len(y)\n",
    "for n in x:\n",
    "    x_xbar += n-xbar\n",
    "for n in y:\n",
    "    y_ybar += n-ybar\n",
    "numerator = 0\n",
    "denominator = 0\n",
    "for i in range(len(x)):\n",
    "    numerator += (x[i] - xbar) * (y[i] - ybar)\n",
    "    denominator += (x[i] - xbar) ** 2\n",
    "m=numerator/denominator\n",
    "print(\"Slope:\",m)\n",
    "c=0\n",
    "c= ybar-(m*xbar)\n",
    "print(\"Constant:\",c)\n",
    "    "
   ]
  },
  {
   "cell_type": "code",
   "execution_count": 69,
   "id": "ae93a480-a2a7-41c1-bc2f-282e8f3c9106",
   "metadata": {},
   "outputs": [
    {
     "name": "stdout",
     "output_type": "stream",
     "text": [
      "[2.8, 3.2, 3.6, 4.0, 4.4]\n"
     ]
    }
   ],
   "source": [
    "#y=mx+c\n",
    "predy=[]\n",
    "predx=[1,2,3,4,5]\n",
    "for i in range(len(predx)):\n",
    "    predy.append(m*(predx[i])+c)\n",
    "print(predy)"
   ]
  },
  {
   "cell_type": "code",
   "execution_count": 87,
   "id": "92d1cb04-1bf8-4b8a-957b-9ef8b82ee8b3",
   "metadata": {},
   "outputs": [
    {
     "name": "stdout",
     "output_type": "stream",
     "text": [
      "0.6923076923076922\n"
     ]
    }
   ],
   "source": [
    "#r^2 \n",
    "yp_ybar=0\n",
    "num=0\n",
    "denum=0\n",
    "for i in range(len(predy)):\n",
    "    num += (predy[i] - ybar) ** 2  \n",
    "    denum +=  (y[i] - ybar)**2\n",
    "\n",
    "r2 = 1-(num/denum)\n",
    "    \n",
    "print(r2)"
   ]
  }
 ],
 "metadata": {
  "kernelspec": {
   "display_name": "Python 3 (ipykernel)",
   "language": "python",
   "name": "python3"
  },
  "language_info": {
   "codemirror_mode": {
    "name": "ipython",
    "version": 3
   },
   "file_extension": ".py",
   "mimetype": "text/x-python",
   "name": "python",
   "nbconvert_exporter": "python",
   "pygments_lexer": "ipython3",
   "version": "3.12.4"
  }
 },
 "nbformat": 4,
 "nbformat_minor": 5
}
